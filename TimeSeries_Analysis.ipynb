{
 "cells": [
  {
   "cell_type": "markdown",
   "metadata": {},
   "source": [
    "### Importing all required libraries we will use in this notebook"
   ]
  },
  {
   "cell_type": "code",
   "execution_count": 1,
   "metadata": {},
   "outputs": [],
   "source": [
    "import numpy as np\n",
    "import pandas as pd\n",
    "import matplotlib.pyplot as plt\n",
    "import yfinance as yf\n",
    "from statsmodels.tsa.stattools import acf,acovf,pacf\n",
    "from statsmodels.tsa.stattools import adfuller\n",
    "from statsmodels.tsa.arima.model import ARIMA\n",
    "from sklearn.metrics import mean_squared_error\n",
    "import pmdarima\n",
    "import warnings\n",
    "warnings.filterwarnings('ignore')"
   ]
  },
  {
   "cell_type": "markdown",
   "metadata": {},
   "source": [
    "### Extracting BRL/USD exchange rate from yfinance in timeperiod from 2019-2021"
   ]
  },
  {
   "cell_type": "code",
   "execution_count": 2,
   "metadata": {},
   "outputs": [],
   "source": [
    "df=yf.Ticker('BRLUSD=X').history(start='2019-01-02',end='2021-01-01')"
   ]
  },
  {
   "cell_type": "markdown",
   "metadata": {},
   "source": [
    "### Printing data which we obtained through yfinance"
   ]
  },
  {
   "cell_type": "code",
   "execution_count": 3,
   "metadata": {},
   "outputs": [
    {
     "data": {
      "text/html": [
       "<div>\n",
       "<style scoped>\n",
       "    .dataframe tbody tr th:only-of-type {\n",
       "        vertical-align: middle;\n",
       "    }\n",
       "\n",
       "    .dataframe tbody tr th {\n",
       "        vertical-align: top;\n",
       "    }\n",
       "\n",
       "    .dataframe thead th {\n",
       "        text-align: right;\n",
       "    }\n",
       "</style>\n",
       "<table border=\"1\" class=\"dataframe\">\n",
       "  <thead>\n",
       "    <tr style=\"text-align: right;\">\n",
       "      <th></th>\n",
       "      <th>Open</th>\n",
       "      <th>High</th>\n",
       "      <th>Low</th>\n",
       "      <th>Close</th>\n",
       "      <th>Volume</th>\n",
       "      <th>Dividends</th>\n",
       "      <th>Stock Splits</th>\n",
       "    </tr>\n",
       "    <tr>\n",
       "      <th>Date</th>\n",
       "      <th></th>\n",
       "      <th></th>\n",
       "      <th></th>\n",
       "      <th></th>\n",
       "      <th></th>\n",
       "      <th></th>\n",
       "      <th></th>\n",
       "    </tr>\n",
       "  </thead>\n",
       "  <tbody>\n",
       "    <tr>\n",
       "      <th>2019-01-01</th>\n",
       "      <td>0.257732</td>\n",
       "      <td>0.257739</td>\n",
       "      <td>0.257732</td>\n",
       "      <td>0.257732</td>\n",
       "      <td>0</td>\n",
       "      <td>0</td>\n",
       "      <td>0</td>\n",
       "    </tr>\n",
       "    <tr>\n",
       "      <th>2019-01-02</th>\n",
       "      <td>0.257739</td>\n",
       "      <td>0.262860</td>\n",
       "      <td>0.256680</td>\n",
       "      <td>0.257739</td>\n",
       "      <td>0</td>\n",
       "      <td>0</td>\n",
       "      <td>0</td>\n",
       "    </tr>\n",
       "    <tr>\n",
       "      <th>2019-01-03</th>\n",
       "      <td>0.264089</td>\n",
       "      <td>0.267544</td>\n",
       "      <td>0.262833</td>\n",
       "      <td>0.264110</td>\n",
       "      <td>0</td>\n",
       "      <td>0</td>\n",
       "      <td>0</td>\n",
       "    </tr>\n",
       "    <tr>\n",
       "      <th>2019-01-04</th>\n",
       "      <td>0.266312</td>\n",
       "      <td>0.269433</td>\n",
       "      <td>0.264299</td>\n",
       "      <td>0.266304</td>\n",
       "      <td>0</td>\n",
       "      <td>0</td>\n",
       "      <td>0</td>\n",
       "    </tr>\n",
       "    <tr>\n",
       "      <th>2019-01-07</th>\n",
       "      <td>0.269273</td>\n",
       "      <td>0.270959</td>\n",
       "      <td>0.268608</td>\n",
       "      <td>0.273134</td>\n",
       "      <td>0</td>\n",
       "      <td>0</td>\n",
       "      <td>0</td>\n",
       "    </tr>\n",
       "    <tr>\n",
       "      <th>...</th>\n",
       "      <td>...</td>\n",
       "      <td>...</td>\n",
       "      <td>...</td>\n",
       "      <td>...</td>\n",
       "      <td>...</td>\n",
       "      <td>...</td>\n",
       "      <td>...</td>\n",
       "    </tr>\n",
       "    <tr>\n",
       "      <th>2020-12-25</th>\n",
       "      <td>0.191744</td>\n",
       "      <td>0.192352</td>\n",
       "      <td>0.191652</td>\n",
       "      <td>0.191744</td>\n",
       "      <td>0</td>\n",
       "      <td>0</td>\n",
       "      <td>0</td>\n",
       "    </tr>\n",
       "    <tr>\n",
       "      <th>2020-12-28</th>\n",
       "      <td>0.193222</td>\n",
       "      <td>0.193705</td>\n",
       "      <td>0.188484</td>\n",
       "      <td>0.191744</td>\n",
       "      <td>0</td>\n",
       "      <td>0</td>\n",
       "      <td>0</td>\n",
       "    </tr>\n",
       "    <tr>\n",
       "      <th>2020-12-29</th>\n",
       "      <td>0.190650</td>\n",
       "      <td>0.193616</td>\n",
       "      <td>0.190614</td>\n",
       "      <td>0.190625</td>\n",
       "      <td>0</td>\n",
       "      <td>0</td>\n",
       "      <td>0</td>\n",
       "    </tr>\n",
       "    <tr>\n",
       "      <th>2020-12-30</th>\n",
       "      <td>0.191990</td>\n",
       "      <td>0.193948</td>\n",
       "      <td>0.191181</td>\n",
       "      <td>0.191990</td>\n",
       "      <td>0</td>\n",
       "      <td>0</td>\n",
       "      <td>0</td>\n",
       "    </tr>\n",
       "    <tr>\n",
       "      <th>2020-12-31</th>\n",
       "      <td>0.192655</td>\n",
       "      <td>0.193331</td>\n",
       "      <td>0.192620</td>\n",
       "      <td>0.192647</td>\n",
       "      <td>0</td>\n",
       "      <td>0</td>\n",
       "      <td>0</td>\n",
       "    </tr>\n",
       "  </tbody>\n",
       "</table>\n",
       "<p>522 rows × 7 columns</p>\n",
       "</div>"
      ],
      "text/plain": [
       "                Open      High       Low     Close  Volume  Dividends  \\\n",
       "Date                                                                    \n",
       "2019-01-01  0.257732  0.257739  0.257732  0.257732       0          0   \n",
       "2019-01-02  0.257739  0.262860  0.256680  0.257739       0          0   \n",
       "2019-01-03  0.264089  0.267544  0.262833  0.264110       0          0   \n",
       "2019-01-04  0.266312  0.269433  0.264299  0.266304       0          0   \n",
       "2019-01-07  0.269273  0.270959  0.268608  0.273134       0          0   \n",
       "...              ...       ...       ...       ...     ...        ...   \n",
       "2020-12-25  0.191744  0.192352  0.191652  0.191744       0          0   \n",
       "2020-12-28  0.193222  0.193705  0.188484  0.191744       0          0   \n",
       "2020-12-29  0.190650  0.193616  0.190614  0.190625       0          0   \n",
       "2020-12-30  0.191990  0.193948  0.191181  0.191990       0          0   \n",
       "2020-12-31  0.192655  0.193331  0.192620  0.192647       0          0   \n",
       "\n",
       "            Stock Splits  \n",
       "Date                      \n",
       "2019-01-01             0  \n",
       "2019-01-02             0  \n",
       "2019-01-03             0  \n",
       "2019-01-04             0  \n",
       "2019-01-07             0  \n",
       "...                  ...  \n",
       "2020-12-25             0  \n",
       "2020-12-28             0  \n",
       "2020-12-29             0  \n",
       "2020-12-30             0  \n",
       "2020-12-31             0  \n",
       "\n",
       "[522 rows x 7 columns]"
      ]
     },
     "execution_count": 3,
     "metadata": {},
     "output_type": "execute_result"
    }
   ],
   "source": [
    "df"
   ]
  },
  {
   "cell_type": "markdown",
   "metadata": {},
   "source": [
    "#### Printing length of data"
   ]
  },
  {
   "cell_type": "code",
   "execution_count": 4,
   "metadata": {},
   "outputs": [
    {
     "data": {
      "text/plain": [
       "522"
      ]
     },
     "execution_count": 4,
     "metadata": {},
     "output_type": "execute_result"
    }
   ],
   "source": [
    "len(df)"
   ]
  },
  {
   "cell_type": "markdown",
   "metadata": {},
   "source": [
    "### splitting the df into training and testing in 80:20 ratio"
   ]
  },
  {
   "cell_type": "code",
   "execution_count": 5,
   "metadata": {},
   "outputs": [],
   "source": [
    "data=df[:420]\n",
    "test_data=df[420:len(df)]"
   ]
  },
  {
   "cell_type": "markdown",
   "metadata": {},
   "source": [
    "### Plotting the data"
   ]
  },
  {
   "cell_type": "code",
   "execution_count": 6,
   "metadata": {},
   "outputs": [
    {
     "data": {
      "image/png": "[encoded data removed]",
      "text/plain": [
       "<Figure size 432x288 with 1 Axes>"
      ]
     },
     "metadata": {
      "needs_background": "light"
     },
     "output_type": "display_data"
    }
   ],
   "source": [
    "x=np.arange(len(data))\n",
    "plt.plot(x,data['Close'])\n",
    "plt.show()"
   ]
  },
  {
   "cell_type": "markdown",
   "metadata": {},
   "source": [
    "### Plotting acf and pacf of original data"
   ]
  },
  {
   "cell_type": "code",
   "execution_count": 7,
   "metadata": {},
   "outputs": [
    {
     "data": {
      "image/png": "[encoded data removed]",
      "text/plain": [
       "<Figure size 432x288 with 1 Axes>"
      ]
     },
     "metadata": {
      "needs_background": "light"
     },
     "output_type": "display_data"
    },
    {
     "data": {
      "image/png": "[encoded data removed]",
      "text/plain": [
       "<Figure size 432x288 with 1 Axes>"
      ]
     },
     "metadata": {
      "needs_background": "light"
     },
     "output_type": "display_data"
    }
   ],
   "source": [
    "data_acf=acf(data['Close'],nlags=40,fft=False)\n",
    "plt.bar(np.arange(41),data_acf)\n",
    "plt.title(\"ACF of Original data\")\n",
    "plt.show()\n",
    "data_pacf=pacf(data['Close'],nlags=40)\n",
    "plt.bar(np.arange(41),data_pacf)\n",
    "plt.title(\"PACF of Original data\")\n",
    "plt.show()"
   ]
  },
  {
   "cell_type": "markdown",
   "metadata": {},
   "source": [
    "#### From here we can see that pacf of data is not going to zero and also acf of data is not going to zero hence AR and MA model cant fit to the data.Hence lets try to check for stationary of data and also try to fit the ARMA,ARIMA and SARIMA model."
   ]
  },
  {
   "cell_type": "markdown",
   "metadata": {},
   "source": [
    "#### Stationarity test for original data by adfuller method"
   ]
  },
  {
   "cell_type": "code",
   "execution_count": 8,
   "metadata": {},
   "outputs": [
    {
     "name": "stdout",
     "output_type": "stream",
     "text": [
      "ADF Statistic:  -0.29567364005086894\n",
      "Critical Values:  {'1%': -3.4461675720270404, '5%': -2.8685128587855955, '10%': -2.5704843086630915}\n"
     ]
    }
   ],
   "source": [
    "adf=adfuller(data['Close'])\n",
    "print(\"ADF Statistic: \",adf[0])  \n",
    "print(\"Critical Values: \",adf[4])  "
   ]
  },
  {
   "cell_type": "markdown",
   "metadata": {},
   "source": [
    "### From above we can see that adf statistic value is greater than all critical values.Hence we accept the null hypothesis and null hypothesis is that the time series is non-stationary and the alternative hypothesis is that the time series is stationary.Hence time series is not stationary.Hence we apply differencing to make data stationary"
   ]
  },
  {
   "cell_type": "markdown",
   "metadata": {},
   "source": [
    "### Applying differencing technique to make data stationary"
   ]
  },
  {
   "cell_type": "code",
   "execution_count": 9,
   "metadata": {},
   "outputs": [],
   "source": [
    "new_close=list(data['Close'])\n",
    "new_close_list=[]\n",
    "for i in range(1,len(new_close)):\n",
    "    new_close_list.append(new_close[i]-new_close[i-1])"
   ]
  },
  {
   "cell_type": "markdown",
   "metadata": {},
   "source": [
    "### plotting the data after applying differencing technique"
   ]
  },
  {
   "cell_type": "code",
   "execution_count": 10,
   "metadata": {},
   "outputs": [
    {
     "data": {
      "image/png": "[encoded data removed]",
      "text/plain": [
       "<Figure size 432x288 with 1 Axes>"
      ]
     },
     "metadata": {
      "needs_background": "light"
     },
     "output_type": "display_data"
    }
   ],
   "source": [
    "x=np.arange(len(new_close_list))\n",
    "plt.plot(x,new_close_list)\n",
    "plt.show()"
   ]
  },
  {
   "cell_type": "markdown",
   "metadata": {},
   "source": [
    "### Plotting acf and pacf of transformed data i.e obtained after applying differencing technique"
   ]
  },
  {
   "cell_type": "code",
   "execution_count": 11,
   "metadata": {},
   "outputs": [
    {
     "data": {
      "image/png": "[encoded data removed]",
      "text/plain": [
       "<Figure size 432x288 with 1 Axes>"
      ]
     },
     "metadata": {
      "needs_background": "light"
     },
     "output_type": "display_data"
    },
    {
     "data": {
      "image/png": "[encoded data removed]",
      "text/plain": [
       "<Figure size 432x288 with 1 Axes>"
      ]
     },
     "metadata": {
      "needs_background": "light"
     },
     "output_type": "display_data"
    }
   ],
   "source": [
    "data_t_acf=acf(new_close_list,nlags=40,fft=False)\n",
    "plt.bar(np.arange(41),data_t_acf)\n",
    "plt.title(\"ACF of Transformed data\")\n",
    "plt.show()\n",
    "data_t_pacf=pacf(new_close_list,nlags=40)\n",
    "plt.bar(np.arange(41),data_t_pacf)\n",
    "plt.title(\"PACF of Transformed data\")\n",
    "plt.show()"
   ]
  },
  {
   "cell_type": "markdown",
   "metadata": {},
   "source": [
    "### Applying adfuller test to the data obtained after applying differencing to check whether data became stationary or not"
   ]
  },
  {
   "cell_type": "code",
   "execution_count": 12,
   "metadata": {},
   "outputs": [
    {
     "name": "stdout",
     "output_type": "stream",
     "text": [
      "ADF Statistic:  -10.721669837503347\n",
      "Critical Values:  {'1%': -3.4461675720270404, '5%': -2.8685128587855955, '10%': -2.5704843086630915}\n"
     ]
    }
   ],
   "source": [
    "adf=adfuller(new_close_list)\n",
    "print(\"ADF Statistic: \",adf[0])  \n",
    "print(\"Critical Values: \",adf[4])  "
   ]
  },
  {
   "cell_type": "markdown",
   "metadata": {},
   "source": [
    "### From the above we can see that adf statistic is less than all critical values.Hence we reject the null hypothesis that time series is not stationary.Hence data is stationary"
   ]
  },
  {
   "cell_type": "markdown",
   "metadata": {},
   "source": [
    "### As data became stationary after applying differencing once hence d=1 and also as d is not equal to 0.Hence arma model doesnt fit into this data.Hence lets try to fix arima model and also if we observe the original graph we can see that there is no seasonality in the graph.Hence sarima also doesnt fit into this data."
   ]
  },
  {
   "cell_type": "markdown",
   "metadata": {},
   "source": [
    "### Fitting the arima model"
   ]
  },
  {
   "cell_type": "markdown",
   "metadata": {},
   "source": [
    "### In the below cell we are using auto_arima function from pmdarima to get p,q values it uses aic value only while comparison"
   ]
  },
  {
   "cell_type": "code",
   "execution_count": 13,
   "metadata": {
    "scrolled": true
   },
   "outputs": [
    {
     "name": "stdout",
     "output_type": "stream",
     "text": [
      "Performing stepwise search to minimize aic\n",
      " ARIMA(0,1,0)(0,0,0)[0] intercept   : AIC=-3823.322, Time=1.34 sec\n",
      " ARIMA(1,1,0)(0,0,0)[0] intercept   : AIC=-3832.100, Time=0.39 sec\n",
      " ARIMA(0,1,1)(0,0,0)[0] intercept   : AIC=-3829.911, Time=0.14 sec\n",
      " ARIMA(0,1,0)(0,0,0)[0]             : AIC=-3823.186, Time=0.10 sec\n",
      " ARIMA(2,1,0)(0,0,0)[0] intercept   : AIC=-3831.867, Time=0.62 sec\n",
      " ARIMA(1,1,1)(0,0,0)[0] intercept   : AIC=-3830.562, Time=0.35 sec\n",
      " ARIMA(2,1,1)(0,0,0)[0] intercept   : AIC=-3817.318, Time=0.62 sec\n",
      " ARIMA(1,1,0)(0,0,0)[0]             : AIC=-3831.187, Time=0.22 sec\n",
      "\n",
      "Best model:  ARIMA(1,1,0)(0,0,0)[0] intercept\n",
      "Total fit time: 3.809 seconds\n"
     ]
    },
    {
     "data": {
      "text/html": [
       "<table class=\"simpletable\">\n",
       "<caption>SARIMAX Results</caption>\n",
       "<tr>\n",
       "  <th>Dep. Variable:</th>           <td>y</td>        <th>  No. Observations:  </th>    <td>420</td>   \n",
       "</tr>\n",
       "<tr>\n",
       "  <th>Model:</th>           <td>SARIMAX(1, 1, 0)</td> <th>  Log Likelihood     </th> <td>1919.050</td> \n",
       "</tr>\n",
       "<tr>\n",
       "  <th>Date:</th>            <td>Fri, 06 May 2022</td> <th>  AIC                </th> <td>-3832.100</td>\n",
       "</tr>\n",
       "<tr>\n",
       "  <th>Time:</th>                <td>23:36:19</td>     <th>  BIC                </th> <td>-3819.987</td>\n",
       "</tr>\n",
       "<tr>\n",
       "  <th>Sample:</th>                  <td>0</td>        <th>  HQIC               </th> <td>-3827.312</td>\n",
       "</tr>\n",
       "<tr>\n",
       "  <th></th>                      <td> - 420</td>      <th>                     </th>     <td> </td>    \n",
       "</tr>\n",
       "<tr>\n",
       "  <th>Covariance Type:</th>        <td>opg</td>       <th>                     </th>     <td> </td>    \n",
       "</tr>\n",
       "</table>\n",
       "<table class=\"simpletable\">\n",
       "<tr>\n",
       "      <td></td>         <th>coef</th>     <th>std err</th>      <th>z</th>      <th>P>|z|</th>  <th>[0.025</th>    <th>0.975]</th>  \n",
       "</tr>\n",
       "<tr>\n",
       "  <th>intercept</th> <td>   -0.0002</td> <td>    0.000</td> <td>   -1.706</td> <td> 0.088</td> <td>   -0.000</td> <td> 3.11e-05</td>\n",
       "</tr>\n",
       "<tr>\n",
       "  <th>ar.L1</th>     <td>   -0.1596</td> <td>    0.036</td> <td>   -4.458</td> <td> 0.000</td> <td>   -0.230</td> <td>   -0.089</td>\n",
       "</tr>\n",
       "<tr>\n",
       "  <th>sigma2</th>    <td> 6.158e-06</td> <td> 3.31e-07</td> <td>   18.595</td> <td> 0.000</td> <td> 5.51e-06</td> <td> 6.81e-06</td>\n",
       "</tr>\n",
       "</table>\n",
       "<table class=\"simpletable\">\n",
       "<tr>\n",
       "  <th>Ljung-Box (L1) (Q):</th>     <td>0.04</td> <th>  Jarque-Bera (JB):  </th> <td>34.14</td>\n",
       "</tr>\n",
       "<tr>\n",
       "  <th>Prob(Q):</th>                <td>0.83</td> <th>  Prob(JB):          </th> <td>0.00</td> \n",
       "</tr>\n",
       "<tr>\n",
       "  <th>Heteroskedasticity (H):</th> <td>1.65</td> <th>  Skew:              </th> <td>0.11</td> \n",
       "</tr>\n",
       "<tr>\n",
       "  <th>Prob(H) (two-sided):</th>    <td>0.00</td> <th>  Kurtosis:          </th> <td>4.38</td> \n",
       "</tr>\n",
       "</table><br/><br/>Warnings:<br/>[1] Covariance matrix calculated using the outer product of gradients (complex-step)."
      ],
      "text/plain": [
       "<class 'statsmodels.iolib.summary.Summary'>\n",
       "\"\"\"\n",
       "                               SARIMAX Results                                \n",
       "==============================================================================\n",
       "Dep. Variable:                      y   No. Observations:                  420\n",
       "Model:               SARIMAX(1, 1, 0)   Log Likelihood                1919.050\n",
       "Date:                Fri, 06 May 2022   AIC                          -3832.100\n",
       "Time:                        23:36:19   BIC                          -3819.987\n",
       "Sample:                             0   HQIC                         -3827.312\n",
       "                                - 420                                         \n",
       "Covariance Type:                  opg                                         \n",
       "==============================================================================\n",
       "                 coef    std err          z      P>|z|      [0.025      0.975]\n",
       "------------------------------------------------------------------------------\n",
       "intercept     -0.0002      0.000     -1.706      0.088      -0.000    3.11e-05\n",
       "ar.L1         -0.1596      0.036     -4.458      0.000      -0.230      -0.089\n",
       "sigma2      6.158e-06   3.31e-07     18.595      0.000    5.51e-06    6.81e-06\n",
       "===================================================================================\n",
       "Ljung-Box (L1) (Q):                   0.04   Jarque-Bera (JB):                34.14\n",
       "Prob(Q):                              0.83   Prob(JB):                         0.00\n",
       "Heteroskedasticity (H):               1.65   Skew:                             0.11\n",
       "Prob(H) (two-sided):                  0.00   Kurtosis:                         4.38\n",
       "===================================================================================\n",
       "\n",
       "Warnings:\n",
       "[1] Covariance matrix calculated using the outer product of gradients (complex-step).\n",
       "\"\"\""
      ]
     },
     "execution_count": 13,
     "metadata": {},
     "output_type": "execute_result"
    }
   ],
   "source": [
    "import pmdarima as pmd\n",
    "autoarima_model=pmd.auto_arima(data['Close'],start_p=0,start_q=0,test=\"adf\",trace=True)\n",
    "autoarima_model.summary()"
   ]
  },
  {
   "cell_type": "markdown",
   "metadata": {},
   "source": [
    "### From above we can see that it is giving that p=1,q=0 is the best params and arima(1,1,0) is the best fitted model for the given data"
   ]
  },
  {
   "cell_type": "markdown",
   "metadata": {},
   "source": [
    "### Here we are doing dynamic forecasting that is when we are predicting the nth value for that we are fitting the model that using values from 0 to n-1 then predicting on the nth value it gives the value predicted at that point of time."
   ]
  },
  {
   "cell_type": "code",
   "execution_count": 14,
   "metadata": {},
   "outputs": [],
   "source": [
    "prediction_data=[]\n",
    "p=1\n",
    "q=0\n",
    "for i in range(len(data),len(df)):\n",
    "    model_arima=ARIMA(df['Close'][:i],order=(1,1,0))\n",
    "    model=model_arima.fit()\n",
    "    prediction_data.append(list(model.predict(start=i,end=i))[0])"
   ]
  },
  {
   "cell_type": "markdown",
   "metadata": {},
   "source": [
    "### Plotting the actual data and the predicted data"
   ]
  },
  {
   "cell_type": "code",
   "execution_count": 15,
   "metadata": {},
   "outputs": [
    {
     "data": {
      "image/png": "[encoded data removed]",
      "text/plain": [
       "<Figure size 432x288 with 1 Axes>"
      ]
     },
     "metadata": {
      "needs_background": "light"
     },
     "output_type": "display_data"
    }
   ],
   "source": [
    "x=np.arange(len(test_data))\n",
    "plt.plot(x,test_data['Close'],c='red')\n",
    "plt.plot(x,prediction_data,c='black')\n",
    "plt.show()"
   ]
  },
  {
   "cell_type": "markdown",
   "metadata": {},
   "source": [
    "### Printing MSE value"
   ]
  },
  {
   "cell_type": "code",
   "execution_count": 16,
   "metadata": {},
   "outputs": [
    {
     "name": "stdout",
     "output_type": "stream",
     "text": [
      "4.360081438392454e-06\n"
     ]
    }
   ],
   "source": [
    "print(mean_squared_error(test_data['Close'],prediction_data))"
   ]
  },
  {
   "cell_type": "markdown",
   "metadata": {},
   "source": [
    "## Hence the best fit for this data is arima(1,1,0)"
   ]
  },
  {
   "cell_type": "code",
   "execution_count": 17,
   "metadata": {},
   "outputs": [],
   "source": [
    "# p=6\n",
    "# q=6\n",
    "# d=1\n",
    "# orders=[(p,d,q) for p in range(1,6) for q in range(1,6)]\n",
    "# models=[]\n",
    "# model_errors=[]\n",
    "# predictions=[]\n",
    "# for order in orders:\n",
    "#     prediction_1=[]\n",
    "#     for i in range(len(data),len(df)):\n",
    "#         model_arima=ARIMA(df['Close'][:i],order=order)\n",
    "#         model=model_arima.fit()\n",
    "#         prediction_1.append(list(model.predict(start=i,end=i))[0])\n",
    "#     model_errors.append(mean_squared_error(test_data['Close'],prediction_1))\n",
    "#     predictions.append(prediction_1)\n",
    "#       x=np.arange(len(test_data))\n",
    "#       plt.plot(x,test_data['Close'],c='red')\n",
    "#       plt.plot(x,prediction_1,c='black')\n",
    "#       plt.show()"
   ]
  },
  {
   "cell_type": "markdown",
   "metadata": {},
   "source": [
    "### Volatality"
   ]
  },
  {
   "cell_type": "markdown",
   "metadata": {},
   "source": [
    "### Here we are finding volatality by taking difference between close and open prices"
   ]
  },
  {
   "cell_type": "code",
   "execution_count": 31,
   "metadata": {},
   "outputs": [],
   "source": [
    "volatality=test_data['Close']-prediction_data"
   ]
  },
  {
   "cell_type": "markdown",
   "metadata": {},
   "source": [
    "### plotting volatality values"
   ]
  },
  {
   "cell_type": "code",
   "execution_count": 33,
   "metadata": {},
   "outputs": [
    {
     "data": {
      "image/png": "[encoded data removed]",
      "text/plain": [
       "<Figure size 432x288 with 1 Axes>"
      ]
     },
     "metadata": {
      "needs_background": "light"
     },
     "output_type": "display_data"
    }
   ],
   "source": [
    "plt.plot(np.arange(len(test_data)),volatality,c='r')\n",
    "plt.show()"
   ]
  },
  {
   "cell_type": "markdown",
   "metadata": {},
   "source": [
    "### importing arch_model from arch library"
   ]
  },
  {
   "cell_type": "code",
   "execution_count": 34,
   "metadata": {},
   "outputs": [],
   "source": [
    "from arch import arch_model"
   ]
  },
  {
   "cell_type": "markdown",
   "metadata": {},
   "source": [
    "### taking orders as random and checking which has the lowest aic value "
   ]
  },
  {
   "cell_type": "code",
   "execution_count": 35,
   "metadata": {},
   "outputs": [],
   "source": [
    "orders=[(i,j) for i in range(1,5) for j in range(1,5)]"
   ]
  },
  {
   "cell_type": "markdown",
   "metadata": {},
   "source": [
    "### fitting arch_model for mutiple orders"
   ]
  },
  {
   "cell_type": "code",
   "execution_count": 36,
   "metadata": {},
   "outputs": [
    {
     "name": "stdout",
     "output_type": "stream",
     "text": [
      "Iteration:      1,   Func. Count:      6,   Neg. LLF: 5075494677.593472\n",
      "Iteration:      2,   Func. Count:     18,   Neg. LLF: -485.22803951414903\n",
      "Optimization terminated successfully    (Exit mode 0)\n",
      "            Current function value: -485.22803953207676\n",
      "            Iterations: 6\n",
      "            Function evaluations: 18\n",
      "            Gradient evaluations: 2\n",
      "Iteration:      1,   Func. Count:      7,   Neg. LLF: 9888652318.664545\n",
      "Iteration:      2,   Func. Count:     21,   Neg. LLF: 3818.821901573557\n",
      "Iteration:      3,   Func. Count:     33,   Neg. LLF: 906600.0411373008\n",
      "Optimization terminated successfully    (Exit mode 0)\n",
      "            Current function value: -485.1767698871674\n",
      "            Iterations: 5\n",
      "            Function evaluations: 41\n",
      "            Gradient evaluations: 3\n",
      "Iteration:      1,   Func. Count:      8,   Neg. LLF: 862487180.2233971\n",
      "Iteration:      2,   Func. Count:     22,   Neg. LLF: -485.1008957513625\n",
      "Optimization terminated successfully    (Exit mode 0)\n",
      "            Current function value: -485.1008957739255\n",
      "            Iterations: 6\n",
      "            Function evaluations: 22\n",
      "            Gradient evaluations: 2\n",
      "Iteration:      1,   Func. Count:      9,   Neg. LLF: 54286755.08202255\n",
      "Iteration:      2,   Func. Count:     24,   Neg. LLF: -485.0933807060111\n",
      "Optimization terminated successfully    (Exit mode 0)\n",
      "            Current function value: -485.09338116324443\n",
      "            Iterations: 6\n",
      "            Function evaluations: 24\n",
      "            Gradient evaluations: 2\n",
      "Iteration:      1,   Func. Count:      7,   Neg. LLF: 440524501.91050714\n",
      "Iteration:      2,   Func. Count:     21,   Neg. LLF: -87.86037637279024\n",
      "Iteration:      3,   Func. Count:     31,   Neg. LLF: 28088033.24050659\n",
      "Iteration:      4,   Func. Count:     44,   Neg. LLF: -485.175094445418\n",
      "Optimization terminated successfully    (Exit mode 0)\n",
      "            Current function value: -485.175094459734\n",
      "            Iterations: 8\n",
      "            Function evaluations: 44\n",
      "            Gradient evaluations: 4\n",
      "Iteration:      1,   Func. Count:      8,   Neg. LLF: 489906959.46851236\n",
      "Iteration:      2,   Func. Count:     23,   Neg. LLF: -153.95999202029196\n",
      "Iteration:      3,   Func. Count:     34,   Neg. LLF: 905.0187176813023\n",
      "Iteration:      4,   Func. Count:     46,   Neg. LLF: 337.2864975356368\n",
      "Optimization terminated successfully    (Exit mode 0)\n",
      "            Current function value: -485.0673915357232\n",
      "            Iterations: 4\n",
      "            Function evaluations: 53\n",
      "            Gradient evaluations: 4\n",
      "Iteration:      1,   Func. Count:      9,   Neg. LLF: 97989737.84943742\n",
      "Iteration:      2,   Func. Count:     24,   Neg. LLF: -485.03664605661095\n",
      "Optimization terminated successfully    (Exit mode 0)\n",
      "            Current function value: -485.0366464443673\n",
      "            Iterations: 6\n",
      "            Function evaluations: 24\n",
      "            Gradient evaluations: 2\n",
      "Iteration:      1,   Func. Count:     10,   Neg. LLF: 132996770.85069534\n",
      "Iteration:      2,   Func. Count:     27,   Neg. LLF: 71975386600334.78\n",
      "Iteration:      3,   Func. Count:     46,   Neg. LLF: 205751119.8524816\n",
      "Iteration:      4,   Func. Count:     63,   Neg. LLF: 5.956174381027203e+16\n",
      "Iteration:      5,   Func. Count:     82,   Neg. LLF: 5.2664127288719285e+20\n",
      "Iteration:      6,   Func. Count:     99,   Neg. LLF: 9.326588318091698e+18\n",
      "Iteration:      7,   Func. Count:    117,   Neg. LLF: -353.7592091755296\n",
      "Inequality constraints incompatible    (Exit mode 4)\n",
      "            Current function value: -353.75919655581083\n",
      "            Iterations: 10\n",
      "            Function evaluations: 117\n",
      "            Gradient evaluations: 7\n",
      "Iteration:      1,   Func. Count:      8,   Neg. LLF: 1751052557.5661826\n",
      "Iteration:      2,   Func. Count:     22,   Neg. LLF: -485.03615735780147\n",
      "Optimization terminated successfully    (Exit mode 0)\n",
      "            Current function value: -485.036157379317\n",
      "            Iterations: 6\n",
      "            Function evaluations: 22\n",
      "            Gradient evaluations: 2\n",
      "Iteration:      1,   Func. Count:      9,   Neg. LLF: 73415463.11801599\n",
      "Iteration:      2,   Func. Count:     25,   Neg. LLF: 2617.8852773798335\n",
      "Iteration:      3,   Func. Count:     38,   Neg. LLF: 14938765.206766102\n",
      "Iteration:      4,   Func. Count:     53,   Neg. LLF: -485.00107984316344\n",
      "Optimization terminated successfully    (Exit mode 0)\n",
      "            Current function value: -485.00107986483295\n",
      "            Iterations: 8\n",
      "            Function evaluations: 53\n",
      "            Gradient evaluations: 4\n",
      "Iteration:      1,   Func. Count:     10,   Neg. LLF: 196628282.74926114\n",
      "Iteration:      2,   Func. Count:     26,   Neg. LLF: -485.0247632938334\n",
      "Optimization terminated successfully    (Exit mode 0)\n",
      "            Current function value: -485.02476367784294\n",
      "            Iterations: 6\n",
      "            Function evaluations: 26\n",
      "            Gradient evaluations: 2\n",
      "Iteration:      1,   Func. Count:     11,   Neg. LLF: 195760922.2501407\n",
      "Iteration:      2,   Func. Count:     29,   Neg. LLF: 1.7986535936432714e+17\n",
      "Iteration:      3,   Func. Count:     49,   Neg. LLF: 633000085938.7314\n",
      "Iteration:      4,   Func. Count:     67,   Neg. LLF: 1.4183260512663773e+20\n",
      "Iteration:      5,   Func. Count:     87,   Neg. LLF: 16419159982734.33\n",
      "Iteration:      6,   Func. Count:    105,   Neg. LLF: -446.2900384672342"
     ]
    },
    {
     "name": "stderr",
     "output_type": "stream",
     "text": [
      "C:\\Users\\Manoj\\anaconda3\\lib\\site-packages\\arch\\univariate\\base.py:753: ConvergenceWarning: The optimizer returned code 4. The message is:\n",
      "Inequality constraints incompatible\n",
      "See scipy.optimize.fmin_slsqp for code meaning.\n",
      "\n",
      "  warnings.warn(\n",
      "C:\\Users\\Manoj\\anaconda3\\lib\\site-packages\\arch\\univariate\\base.py:753: ConvergenceWarning: The optimizer returned code 4. The message is:\n",
      "Inequality constraints incompatible\n",
      "See scipy.optimize.fmin_slsqp for code meaning.\n",
      "\n",
      "  warnings.warn(\n"
     ]
    },
    {
     "name": "stdout",
     "output_type": "stream",
     "text": [
      "\n",
      "Inequality constraints incompatible    (Exit mode 4)\n",
      "            Current function value: -446.29003481805347\n",
      "            Iterations: 8\n",
      "            Function evaluations: 105\n",
      "            Gradient evaluations: 6\n",
      "Iteration:      1,   Func. Count:      9,   Neg. LLF: 58059004.46762563\n",
      "Iteration:      2,   Func. Count:     25,   Neg. LLF: 15568.758357828947\n",
      "Iteration:      3,   Func. Count:     39,   Neg. LLF: 5365865.714725918\n",
      "Optimization terminated successfully    (Exit mode 0)\n",
      "            Current function value: -484.92538764352594\n",
      "            Iterations: 4\n",
      "            Function evaluations: 47\n",
      "            Gradient evaluations: 3\n",
      "Iteration:      1,   Func. Count:     10,   Neg. LLF: 1.563453686590796e+17\n",
      "Iteration:      2,   Func. Count:     27,   Neg. LLF: 700926918233088.9\n",
      "Iteration:      3,   Func. Count:     46,   Neg. LLF: 1.6952438190132467e+24\n",
      "Iteration:      4,   Func. Count:     65,   Neg. LLF: 5047640944704326.0\n",
      "Iteration:      5,   Func. Count:     84,   Neg. LLF: 4.042123023656955e+19\n",
      "Iteration:      6,   Func. Count:    101,   Neg. LLF: 5.97966286502605e+16\n",
      "Iteration:      7,   Func. Count:    120,   Neg. LLF: 4.238634151321173e+25\n",
      "Iteration:      8,   Func. Count:    139,   Neg. LLF: 7.648005271761572e+17\n",
      "Iteration:      9,   Func. Count:    158,   Neg. LLF: 6.367755074097305e+21\n",
      "Iteration:     10,   Func. Count:    176,   Neg. LLF: 4.4380533239279867e+18\n",
      "Iteration:     11,   Func. Count:    194,   Neg. LLF: -415.7848062373913\n",
      "Inequality constraints incompatible    (Exit mode 4)\n",
      "            Current function value: -415.78479889711247\n",
      "            Iterations: 14\n",
      "            Function evaluations: 194\n",
      "            Gradient evaluations: 11\n",
      "Iteration:      1,   Func. Count:     11,   Neg. LLF: 177632352.47737858\n",
      "Iteration:      2,   Func. Count:     28,   Neg. LLF: -484.9983741110565\n",
      "Optimization terminated successfully    (Exit mode 0)\n",
      "            Current function value: -484.99837448894317\n",
      "            Iterations: 6\n",
      "            Function evaluations: 28\n",
      "            Gradient evaluations: 2\n",
      "Iteration:      1,   Func. Count:     12,   Neg. LLF: 154120578.8428661\n",
      "Iteration:      2,   Func. Count:     30,   Neg. LLF: -485.0285291509033\n",
      "Optimization terminated successfully    (Exit mode 0)\n",
      "            Current function value: -485.0285295872008\n",
      "            Iterations: 6\n",
      "            Function evaluations: 30\n",
      "            Gradient evaluations: 2\n"
     ]
    },
    {
     "name": "stderr",
     "output_type": "stream",
     "text": [
      "C:\\Users\\Manoj\\anaconda3\\lib\\site-packages\\arch\\univariate\\base.py:753: ConvergenceWarning: The optimizer returned code 4. The message is:\n",
      "Inequality constraints incompatible\n",
      "See scipy.optimize.fmin_slsqp for code meaning.\n",
      "\n",
      "  warnings.warn(\n"
     ]
    }
   ],
   "source": [
    "aic_values=[]\n",
    "for order in orders:\n",
    "    model=arch_model(volatality,p=order[0],q=order[1])\n",
    "    fit_model=model.fit()\n",
    "    aic_values.append([fit_model.aic,order])"
   ]
  },
  {
   "cell_type": "markdown",
   "metadata": {},
   "source": [
    "### printing aic values after sorting then first value will be the required value"
   ]
  },
  {
   "cell_type": "code",
   "execution_count": 37,
   "metadata": {},
   "outputs": [
    {
     "data": {
      "text/plain": [
       "[[-962.4560790641535, (1, 1)],\n",
       " [-960.3535397743348, (1, 2)],\n",
       " [-960.350188919468, (2, 1)],\n",
       " [-958.201791547851, (1, 3)],\n",
       " [-958.1347830714463, (2, 2)],\n",
       " [-958.072314758634, (3, 1)],\n",
       " [-956.1867623264889, (1, 4)],\n",
       " [-956.0732928887346, (2, 3)],\n",
       " [-956.0021597296659, (3, 2)],\n",
       " [-955.8507752870519, (4, 1)],\n",
       " [-954.0495273556859, (3, 3)],\n",
       " [-951.9967489778863, (4, 3)],\n",
       " [-950.0570591744016, (4, 4)],\n",
       " [-874.5800696361069, (3, 4)],\n",
       " [-815.5695977942249, (4, 2)],\n",
       " [-691.5183931116217, (2, 4)]]"
      ]
     },
     "execution_count": 37,
     "metadata": {},
     "output_type": "execute_result"
    }
   ],
   "source": [
    "aic_values.sort()\n",
    "aic_values"
   ]
  },
  {
   "cell_type": "markdown",
   "metadata": {},
   "source": [
    "### printing p,q values"
   ]
  },
  {
   "cell_type": "code",
   "execution_count": 38,
   "metadata": {},
   "outputs": [
    {
     "data": {
      "text/plain": [
       "(1, 1)"
      ]
     },
     "execution_count": 38,
     "metadata": {},
     "output_type": "execute_result"
    }
   ],
   "source": [
    "p,q=aic_values[0][1]\n",
    "p,q"
   ]
  },
  {
   "cell_type": "markdown",
   "metadata": {},
   "source": [
    "### fitting arch model with the p,q obtained above"
   ]
  },
  {
   "cell_type": "code",
   "execution_count": 39,
   "metadata": {},
   "outputs": [
    {
     "name": "stdout",
     "output_type": "stream",
     "text": [
      "Iteration:      1,   Func. Count:      6,   Neg. LLF: 5075494677.593472\n",
      "Iteration:      2,   Func. Count:     18,   Neg. LLF: -485.22803951414903\n",
      "Optimization terminated successfully    (Exit mode 0)\n",
      "            Current function value: -485.22803953207676\n",
      "            Iterations: 6\n",
      "            Function evaluations: 18\n",
      "            Gradient evaluations: 2\n"
     ]
    },
    {
     "data": {
      "text/html": [
       "<table class=\"simpletable\">\n",
       "<caption>Constant Mean - GARCH Model Results</caption>\n",
       "<tr>\n",
       "  <th>Dep. Variable:</th>        <td>Close</td>       <th>  R-squared:         </th>  <td>   0.000</td> \n",
       "</tr>\n",
       "<tr>\n",
       "  <th>Mean Model:</th>       <td>Constant Mean</td>   <th>  Adj. R-squared:    </th>  <td>   0.000</td> \n",
       "</tr>\n",
       "<tr>\n",
       "  <th>Vol Model:</th>            <td>GARCH</td>       <th>  Log-Likelihood:    </th> <td>   485.228</td>\n",
       "</tr>\n",
       "<tr>\n",
       "  <th>Distribution:</th>        <td>Normal</td>       <th>  AIC:               </th> <td>  -962.456</td>\n",
       "</tr>\n",
       "<tr>\n",
       "  <th>Method:</th>        <td>Maximum Likelihood</td> <th>  BIC:               </th> <td>  -951.956</td>\n",
       "</tr>\n",
       "<tr>\n",
       "  <th></th>                        <td></td>          <th>  No. Observations:  </th>     <td>102</td>   \n",
       "</tr>\n",
       "<tr>\n",
       "  <th>Date:</th>           <td>Fri, May 06 2022</td>  <th>  Df Residuals:      </th>     <td>101</td>   \n",
       "</tr>\n",
       "<tr>\n",
       "  <th>Time:</th>               <td>23:47:15</td>      <th>  Df Model:          </th>      <td>1</td>    \n",
       "</tr>\n",
       "</table>\n",
       "<table class=\"simpletable\">\n",
       "<caption>Mean Model</caption>\n",
       "<tr>\n",
       "   <td></td>     <th>coef</th>     <th>std err</th>      <th>t</th>     <th>P>|t|</th>   <th>95.0% Conf. Int.</th>   \n",
       "</tr>\n",
       "<tr>\n",
       "  <th>mu</th> <td>1.0069e-04</td> <td>1.928e-07</td> <td>  522.257</td> <td>0.000</td> <td>[1.003e-04,1.011e-04]</td>\n",
       "</tr>\n",
       "</table>\n",
       "<table class=\"simpletable\">\n",
       "<caption>Volatility Model</caption>\n",
       "<tr>\n",
       "      <td></td>        <th>coef</th>     <th>std err</th>      <th>t</th>       <th>P>|t|</th>     <th>95.0% Conf. Int.</th>   \n",
       "</tr>\n",
       "<tr>\n",
       "  <th>omega</th>    <td>2.1739e-06</td> <td>1.055e-10</td> <td>2.060e+04</td>   <td>0.000</td>   <td>[2.174e-06,2.174e-06]</td>\n",
       "</tr>\n",
       "<tr>\n",
       "  <th>alpha[1]</th> <td>    0.0500</td> <td>    0.121</td> <td>    0.412</td> <td>    0.680</td>   <td>[ -0.188,  0.288]</td>  \n",
       "</tr>\n",
       "<tr>\n",
       "  <th>beta[1]</th>  <td>    0.4500</td> <td>    0.145</td> <td>    3.102</td> <td>1.925e-03</td>   <td>[  0.166,  0.734]</td>  \n",
       "</tr>\n",
       "</table><br/><br/>Covariance estimator: robust"
      ],
      "text/plain": [
       "<class 'statsmodels.iolib.summary.Summary'>\n",
       "\"\"\"\n",
       "                     Constant Mean - GARCH Model Results                      \n",
       "==============================================================================\n",
       "Dep. Variable:                  Close   R-squared:                       0.000\n",
       "Mean Model:             Constant Mean   Adj. R-squared:                  0.000\n",
       "Vol Model:                      GARCH   Log-Likelihood:                485.228\n",
       "Distribution:                  Normal   AIC:                          -962.456\n",
       "Method:            Maximum Likelihood   BIC:                          -951.956\n",
       "                                        No. Observations:                  102\n",
       "Date:                Fri, May 06 2022   Df Residuals:                      101\n",
       "Time:                        23:47:15   Df Model:                            1\n",
       "                                 Mean Model                                 \n",
       "============================================================================\n",
       "                 coef    std err          t      P>|t|      95.0% Conf. Int.\n",
       "----------------------------------------------------------------------------\n",
       "mu         1.0069e-04  1.928e-07    522.257      0.000 [1.003e-04,1.011e-04]\n",
       "                              Volatility Model                              \n",
       "============================================================================\n",
       "                 coef    std err          t      P>|t|      95.0% Conf. Int.\n",
       "----------------------------------------------------------------------------\n",
       "omega      2.1739e-06  1.055e-10  2.060e+04      0.000 [2.174e-06,2.174e-06]\n",
       "alpha[1]       0.0500      0.121      0.412      0.680     [ -0.188,  0.288]\n",
       "beta[1]        0.4500      0.145      3.102  1.925e-03     [  0.166,  0.734]\n",
       "============================================================================\n",
       "\n",
       "Covariance estimator: robust\n",
       "\"\"\""
      ]
     },
     "execution_count": 39,
     "metadata": {},
     "output_type": "execute_result"
    }
   ],
   "source": [
    "model=arch_model(volatality,p=1,q=1)\n",
    "fitted_model=model.fit()\n",
    "fitted_model.summary()"
   ]
  },
  {
   "cell_type": "markdown",
   "metadata": {},
   "source": [
    "#### Here we have fitted arch(1,1) model to this residual data.then we can use this to forecast the data"
   ]
  },
  {
   "cell_type": "code",
   "execution_count": 45,
   "metadata": {},
   "outputs": [
    {
     "name": "stdout",
     "output_type": "stream",
     "text": [
      "Iteration:      1,   Func. Count:      6,   Neg. LLF: 48900755510.28863\n",
      "Iteration:      2,   Func. Count:     18,   Neg. LLF: -380.05225949245596\n",
      "Optimization terminated successfully    (Exit mode 0)\n",
      "            Current function value: -380.0522595113374\n",
      "            Iterations: 6\n",
      "            Function evaluations: 18\n",
      "            Gradient evaluations: 2\n",
      "Iteration:      1,   Func. Count:      6,   Neg. LLF: 49258171768.21163\n",
      "Iteration:      2,   Func. Count:     18,   Neg. LLF: 31166778241.324642\n",
      "Iteration:      3,   Func. Count:     30,   Neg. LLF: 599265.7495131539\n",
      "Iteration:      4,   Func. Count:     39,   Neg. LLF: 81914907.25292881\n",
      "Optimization terminated successfully    (Exit mode 0)\n",
      "            Current function value: -382.6814700520856\n",
      "            Iterations: 6\n",
      "            Function evaluations: 47\n",
      "            Gradient evaluations: 4\n",
      "Iteration:      1,   Func. Count:      6,   Neg. LLF: 949005639.6706797\n",
      "Iteration:      2,   Func. Count:     18,   Neg. LLF: 1075280.8128729279\n",
      "Iteration:      3,   Func. Count:     29,   Neg. LLF: 27764.95628685223\n",
      "Optimization terminated successfully    (Exit mode 0)\n",
      "            Current function value: -387.77440107488223\n",
      "            Iterations: 4\n",
      "            Function evaluations: 36\n",
      "            Gradient evaluations: 3\n",
      "Iteration:      1,   Func. Count:      6,   Neg. LLF: 960519504.1225054\n",
      "Iteration:      2,   Func. Count:     18,   Neg. LLF: 602755.3797910514\n",
      "Iteration:      3,   Func. Count:     28,   Neg. LLF: -392.4515775628176\n",
      "Optimization terminated successfully    (Exit mode 0)\n",
      "            Current function value: -392.45157757560173\n",
      "            Iterations: 7\n",
      "            Function evaluations: 28\n",
      "            Gradient evaluations: 3\n",
      "Iteration:      1,   Func. Count:      6,   Neg. LLF: 809370884.0152029\n",
      "Iteration:      2,   Func. Count:     19,   Neg. LLF: 7405490.662738605\n",
      "Optimization terminated successfully    (Exit mode 0)\n",
      "            Current function value: -397.67940180779357\n",
      "            Iterations: 2\n",
      "            Function evaluations: 28\n",
      "            Gradient evaluations: 2\n",
      "Iteration:      1,   Func. Count:      6,   Neg. LLF: 669658791.4324353\n",
      "Iteration:      2,   Func. Count:     18,   Neg. LLF: -402.4903573559526\n",
      "Optimization terminated successfully    (Exit mode 0)\n",
      "            Current function value: -402.49035736961764\n",
      "            Iterations: 6\n",
      "            Function evaluations: 18\n",
      "            Gradient evaluations: 2\n",
      "Iteration:      1,   Func. Count:      6,   Neg. LLF: 5604145276.413902\n",
      "Iteration:      2,   Func. Count:     19,   Neg. LLF: 9644997.60965323\n",
      "Optimization terminated successfully    (Exit mode 0)\n",
      "            Current function value: -407.6926777688029\n",
      "            Iterations: 2\n",
      "            Function evaluations: 28\n",
      "            Gradient evaluations: 2\n",
      "Iteration:      1,   Func. Count:      6,   Neg. LLF: 7273966430.745631\n",
      "Iteration:      2,   Func. Count:     18,   Neg. LLF: -412.4130495015284\n",
      "Optimization terminated successfully    (Exit mode 0)\n",
      "            Current function value: -412.41304951629814\n",
      "            Iterations: 6\n",
      "            Function evaluations: 18\n",
      "            Gradient evaluations: 2\n",
      "Iteration:      1,   Func. Count:      6,   Neg. LLF: 132641777.12192008\n",
      "Iteration:      2,   Func. Count:     18,   Neg. LLF: -414.6750119510114\n",
      "Optimization terminated successfully    (Exit mode 0)\n",
      "            Current function value: -414.6750119574582\n",
      "            Iterations: 6\n",
      "            Function evaluations: 18\n",
      "            Gradient evaluations: 2\n",
      "Iteration:      1,   Func. Count:      6,   Neg. LLF: 58179212.54228473\n",
      "Iteration:      2,   Func. Count:     18,   Neg. LLF: -419.7131584132023\n",
      "Optimization terminated successfully    (Exit mode 0)\n",
      "            Current function value: -419.71315841886275\n",
      "            Iterations: 6\n",
      "            Function evaluations: 18\n",
      "            Gradient evaluations: 2\n",
      "Iteration:      1,   Func. Count:      6,   Neg. LLF: 36254432.58014761\n",
      "Iteration:      2,   Func. Count:     19,   Neg. LLF: 283889056826.00354\n",
      "Optimization terminated successfully    (Exit mode 0)\n",
      "            Current function value: -424.28357347055913\n",
      "            Iterations: 2\n",
      "            Function evaluations: 26\n",
      "            Gradient evaluations: 2\n",
      "Iteration:      1,   Func. Count:      6,   Neg. LLF: 40585435.893772416\n",
      "Iteration:      2,   Func. Count:     18,   Neg. LLF: -429.37325915880245\n",
      "Optimization terminated successfully    (Exit mode 0)\n",
      "            Current function value: -429.37325916657113\n",
      "            Iterations: 6\n",
      "            Function evaluations: 18\n",
      "            Gradient evaluations: 2\n",
      "Iteration:      1,   Func. Count:      6,   Neg. LLF: 68707525.4587514\n",
      "Iteration:      2,   Func. Count:     18,   Neg. LLF: -434.6030559148267\n",
      "Optimization terminated successfully    (Exit mode 0)\n",
      "            Current function value: -434.6030559250663\n",
      "            Iterations: 6\n",
      "            Function evaluations: 18\n",
      "            Gradient evaluations: 2\n",
      "Iteration:      1,   Func. Count:      6,   Neg. LLF: 35328575.21909424\n",
      "Iteration:      2,   Func. Count:     19,   Neg. LLF: 8773714963163.079\n",
      "Optimization terminated successfully    (Exit mode 0)\n",
      "            Current function value: -439.7821145670954\n",
      "            Iterations: 2\n",
      "            Function evaluations: 27\n",
      "            Gradient evaluations: 2\n",
      "Iteration:      1,   Func. Count:      6,   Neg. LLF: 5.2231713317447336e+16\n",
      "Iteration:      2,   Func. Count:     19,   Neg. LLF: 75830507099.95305\n",
      "Iteration:      3,   Func. Count:     30,   Neg. LLF: 4303298.332221132\n",
      "Optimization terminated successfully    (Exit mode 0)\n",
      "            Current function value: -444.70221088763026\n",
      "            Iterations: 3\n",
      "            Function evaluations: 38\n",
      "            Gradient evaluations: 3\n",
      "Iteration:      1,   Func. Count:      6,   Neg. LLF: 9.748420911562451e+16\n",
      "Iteration:      2,   Func. Count:     18,   Neg. LLF: -449.8176298484062\n",
      "Optimization terminated successfully    (Exit mode 0)\n",
      "            Current function value: -449.81762986175005\n",
      "            Iterations: 6\n",
      "            Function evaluations: 18\n",
      "            Gradient evaluations: 2\n",
      "Iteration:      1,   Func. Count:      6,   Neg. LLF: 497031763.3496637\n",
      "Iteration:      2,   Func. Count:     18,   Neg. LLF: -454.7543339269092\n",
      "Optimization terminated successfully    (Exit mode 0)\n",
      "            Current function value: -454.7543339405344\n",
      "            Iterations: 6\n",
      "            Function evaluations: 18\n",
      "            Gradient evaluations: 2\n",
      "Iteration:      1,   Func. Count:      6,   Neg. LLF: 2.1422489649533056e+17\n",
      "Iteration:      2,   Func. Count:     19,   Neg. LLF: 228174729333.42624\n",
      "Optimization terminated successfully    (Exit mode 0)\n",
      "            Current function value: -459.28103628718185\n",
      "            Iterations: 3\n",
      "            Function evaluations: 25\n",
      "            Gradient evaluations: 2\n",
      "Iteration:      1,   Func. Count:      6,   Neg. LLF: 394088893.38242185\n",
      "Iteration:      2,   Func. Count:     18,   Neg. LLF: -464.50037337079476\n",
      "Optimization terminated successfully    (Exit mode 0)\n",
      "            Current function value: -464.5003733841132\n",
      "            Iterations: 6\n",
      "            Function evaluations: 18\n",
      "            Gradient evaluations: 2\n",
      "Iteration:      1,   Func. Count:      6,   Neg. LLF: 508876311.66032434\n",
      "Iteration:      2,   Func. Count:     18,   Neg. LLF: -469.76786031560766\n",
      "Optimization terminated successfully    (Exit mode 0)\n",
      "            Current function value: -469.7678603306933\n",
      "            Iterations: 6\n",
      "            Function evaluations: 18\n",
      "            Gradient evaluations: 2\n"
     ]
    },
    {
     "data": {
      "text/plain": [
       "[array([3.78347519e-06]),\n",
       " array([5.94232411e-06]),\n",
       " array([4.6492484e-06]),\n",
       " array([4.6445804e-06]),\n",
       " array([4.34380594e-06]),\n",
       " array([4.4119815e-06]),\n",
       " array([4.23723267e-06]),\n",
       " array([4.38611072e-06]),\n",
       " array([5.77358012e-06]),\n",
       " array([4.97822222e-06]),\n",
       " array([4.91202916e-06]),\n",
       " array([4.58682515e-06]),\n",
       " array([4.35931368e-06]),\n",
       " array([4.27166666e-06]),\n",
       " array([4.3462078e-06]),\n",
       " array([4.26948255e-06]),\n",
       " array([4.30969237e-06]),\n",
       " array([4.52378195e-06]),\n",
       " array([4.27130336e-06]),\n",
       " array([4.12714078e-06])]"
      ]
     },
     "execution_count": 45,
     "metadata": {},
     "output_type": "execute_result"
    }
   ],
   "source": [
    "def rolling_predictions(n=20) : \n",
    "    predicted_values=[]\n",
    "    for i in range(n):\n",
    "        model=arch_model(volatality[:80+i],p=1,q=1)\n",
    "        fitted_model=model.fit()\n",
    "        predicted_values.append(fitted_model.forecast (horizon=1).variance.iloc[-1].values)\n",
    "    return predicted_values \n",
    "\n",
    "rolling_predictions()"
   ]
  },
  {
   "cell_type": "markdown",
   "metadata": {},
   "source": [
    "### Here we predicted the values in the above cell"
   ]
  },
  {
   "cell_type": "markdown",
   "metadata": {},
   "source": [
    "### This project is done by Chundru Manoj Sai Surendra - 1903205 - M&C"
   ]
  },
  {
   "cell_type": "code",
   "execution_count": null,
   "metadata": {},
   "outputs": [],
   "source": []
  },
  {
   "cell_type": "code",
   "execution_count": null,
   "metadata": {},
   "outputs": [],
   "source": []
  }
 ],
 "metadata": {
  "kernelspec": {
   "display_name": "Python 3",
   "language": "python",
   "name": "python3"
  },
  "language_info": {
   "codemirror_mode": {
    "name": "ipython",
    "version": 3
   },
   "file_extension": ".py",
   "mimetype": "text/x-python",
   "name": "python",
   "nbconvert_exporter": "python",
   "pygments_lexer": "ipython3",
   "version": "3.8.5"
  }
 },
 "nbformat": 4,
 "nbformat_minor": 4
}
